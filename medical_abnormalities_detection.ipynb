{
  "nbformat": 4,
  "nbformat_minor": 0,
  "metadata": {
    "colab": {
      "provenance": []
    },
    "kernelspec": {
      "name": "python3",
      "display_name": "Python 3"
    },
    "language_info": {
      "name": "python"
    },
    "widgets": {
      "application/vnd.jupyter.widget-state+json": {
        "6e2cfd7cb6ef45e7aebd671313015fcd": {
          "model_module": "@jupyter-widgets/controls",
          "model_name": "FloatTextModel",
          "model_module_version": "1.5.0",
          "state": {
            "_dom_classes": [],
            "_model_module": "@jupyter-widgets/controls",
            "_model_module_version": "1.5.0",
            "_model_name": "FloatTextModel",
            "_view_count": null,
            "_view_module": "@jupyter-widgets/controls",
            "_view_module_version": "1.5.0",
            "_view_name": "FloatTextView",
            "continuous_update": false,
            "description": "Frecuencia cardíaca:",
            "description_tooltip": null,
            "disabled": false,
            "layout": "IPY_MODEL_f327ea0cf75a42d3a2c31c1fea7e3aa5",
            "step": null,
            "style": "IPY_MODEL_f9534ca6d0c843f9aac21887bfe1bf47",
            "value": 75
          }
        },
        "f327ea0cf75a42d3a2c31c1fea7e3aa5": {
          "model_module": "@jupyter-widgets/base",
          "model_name": "LayoutModel",
          "model_module_version": "1.2.0",
          "state": {
            "_model_module": "@jupyter-widgets/base",
            "_model_module_version": "1.2.0",
            "_model_name": "LayoutModel",
            "_view_count": null,
            "_view_module": "@jupyter-widgets/base",
            "_view_module_version": "1.2.0",
            "_view_name": "LayoutView",
            "align_content": null,
            "align_items": null,
            "align_self": null,
            "border": null,
            "bottom": null,
            "display": null,
            "flex": null,
            "flex_flow": null,
            "grid_area": null,
            "grid_auto_columns": null,
            "grid_auto_flow": null,
            "grid_auto_rows": null,
            "grid_column": null,
            "grid_gap": null,
            "grid_row": null,
            "grid_template_areas": null,
            "grid_template_columns": null,
            "grid_template_rows": null,
            "height": null,
            "justify_content": null,
            "justify_items": null,
            "left": null,
            "margin": null,
            "max_height": null,
            "max_width": null,
            "min_height": null,
            "min_width": null,
            "object_fit": null,
            "object_position": null,
            "order": null,
            "overflow": null,
            "overflow_x": null,
            "overflow_y": null,
            "padding": null,
            "right": null,
            "top": null,
            "visibility": null,
            "width": null
          }
        },
        "f9534ca6d0c843f9aac21887bfe1bf47": {
          "model_module": "@jupyter-widgets/controls",
          "model_name": "DescriptionStyleModel",
          "model_module_version": "1.5.0",
          "state": {
            "_model_module": "@jupyter-widgets/controls",
            "_model_module_version": "1.5.0",
            "_model_name": "DescriptionStyleModel",
            "_view_count": null,
            "_view_module": "@jupyter-widgets/base",
            "_view_module_version": "1.2.0",
            "_view_name": "StyleView",
            "description_width": ""
          }
        },
        "537f794e07794d8ab3ad562bbdca4d01": {
          "model_module": "@jupyter-widgets/controls",
          "model_name": "FloatTextModel",
          "model_module_version": "1.5.0",
          "state": {
            "_dom_classes": [],
            "_model_module": "@jupyter-widgets/controls",
            "_model_module_version": "1.5.0",
            "_model_name": "FloatTextModel",
            "_view_count": null,
            "_view_module": "@jupyter-widgets/controls",
            "_view_module_version": "1.5.0",
            "_view_name": "FloatTextView",
            "continuous_update": false,
            "description": "SpO2 (%):",
            "description_tooltip": null,
            "disabled": false,
            "layout": "IPY_MODEL_8a1c9631f41e451299510eba507207d9",
            "step": null,
            "style": "IPY_MODEL_c6f50bc5fd7944f2addb3886887cc08b",
            "value": 99
          }
        },
        "8a1c9631f41e451299510eba507207d9": {
          "model_module": "@jupyter-widgets/base",
          "model_name": "LayoutModel",
          "model_module_version": "1.2.0",
          "state": {
            "_model_module": "@jupyter-widgets/base",
            "_model_module_version": "1.2.0",
            "_model_name": "LayoutModel",
            "_view_count": null,
            "_view_module": "@jupyter-widgets/base",
            "_view_module_version": "1.2.0",
            "_view_name": "LayoutView",
            "align_content": null,
            "align_items": null,
            "align_self": null,
            "border": null,
            "bottom": null,
            "display": null,
            "flex": null,
            "flex_flow": null,
            "grid_area": null,
            "grid_auto_columns": null,
            "grid_auto_flow": null,
            "grid_auto_rows": null,
            "grid_column": null,
            "grid_gap": null,
            "grid_row": null,
            "grid_template_areas": null,
            "grid_template_columns": null,
            "grid_template_rows": null,
            "height": null,
            "justify_content": null,
            "justify_items": null,
            "left": null,
            "margin": null,
            "max_height": null,
            "max_width": null,
            "min_height": null,
            "min_width": null,
            "object_fit": null,
            "object_position": null,
            "order": null,
            "overflow": null,
            "overflow_x": null,
            "overflow_y": null,
            "padding": null,
            "right": null,
            "top": null,
            "visibility": null,
            "width": null
          }
        },
        "c6f50bc5fd7944f2addb3886887cc08b": {
          "model_module": "@jupyter-widgets/controls",
          "model_name": "DescriptionStyleModel",
          "model_module_version": "1.5.0",
          "state": {
            "_model_module": "@jupyter-widgets/controls",
            "_model_module_version": "1.5.0",
            "_model_name": "DescriptionStyleModel",
            "_view_count": null,
            "_view_module": "@jupyter-widgets/base",
            "_view_module_version": "1.2.0",
            "_view_name": "StyleView",
            "description_width": ""
          }
        },
        "118a9c577d8243439d1b52ae82d85f3c": {
          "model_module": "@jupyter-widgets/controls",
          "model_name": "FloatTextModel",
          "model_module_version": "1.5.0",
          "state": {
            "_dom_classes": [],
            "_model_module": "@jupyter-widgets/controls",
            "_model_module_version": "1.5.0",
            "_model_name": "FloatTextModel",
            "_view_count": null,
            "_view_module": "@jupyter-widgets/controls",
            "_view_module_version": "1.5.0",
            "_view_name": "FloatTextView",
            "continuous_update": false,
            "description": "Temperatura (°C):",
            "description_tooltip": null,
            "disabled": false,
            "layout": "IPY_MODEL_c7ac4c82b7cc4514a111a9b85eb20909",
            "step": null,
            "style": "IPY_MODEL_1e2be0f6339a4b86addeffc890106db9",
            "value": 40
          }
        },
        "c7ac4c82b7cc4514a111a9b85eb20909": {
          "model_module": "@jupyter-widgets/base",
          "model_name": "LayoutModel",
          "model_module_version": "1.2.0",
          "state": {
            "_model_module": "@jupyter-widgets/base",
            "_model_module_version": "1.2.0",
            "_model_name": "LayoutModel",
            "_view_count": null,
            "_view_module": "@jupyter-widgets/base",
            "_view_module_version": "1.2.0",
            "_view_name": "LayoutView",
            "align_content": null,
            "align_items": null,
            "align_self": null,
            "border": null,
            "bottom": null,
            "display": null,
            "flex": null,
            "flex_flow": null,
            "grid_area": null,
            "grid_auto_columns": null,
            "grid_auto_flow": null,
            "grid_auto_rows": null,
            "grid_column": null,
            "grid_gap": null,
            "grid_row": null,
            "grid_template_areas": null,
            "grid_template_columns": null,
            "grid_template_rows": null,
            "height": null,
            "justify_content": null,
            "justify_items": null,
            "left": null,
            "margin": null,
            "max_height": null,
            "max_width": null,
            "min_height": null,
            "min_width": null,
            "object_fit": null,
            "object_position": null,
            "order": null,
            "overflow": null,
            "overflow_x": null,
            "overflow_y": null,
            "padding": null,
            "right": null,
            "top": null,
            "visibility": null,
            "width": null
          }
        },
        "1e2be0f6339a4b86addeffc890106db9": {
          "model_module": "@jupyter-widgets/controls",
          "model_name": "DescriptionStyleModel",
          "model_module_version": "1.5.0",
          "state": {
            "_model_module": "@jupyter-widgets/controls",
            "_model_module_version": "1.5.0",
            "_model_name": "DescriptionStyleModel",
            "_view_count": null,
            "_view_module": "@jupyter-widgets/base",
            "_view_module_version": "1.2.0",
            "_view_name": "StyleView",
            "description_width": ""
          }
        },
        "1dce89a98aa2426fa7963697887f3ee5": {
          "model_module": "@jupyter-widgets/controls",
          "model_name": "FloatTextModel",
          "model_module_version": "1.5.0",
          "state": {
            "_dom_classes": [],
            "_model_module": "@jupyter-widgets/controls",
            "_model_module_version": "1.5.0",
            "_model_name": "FloatTextModel",
            "_view_count": null,
            "_view_module": "@jupyter-widgets/controls",
            "_view_module_version": "1.5.0",
            "_view_name": "FloatTextView",
            "continuous_update": false,
            "description": "Glucosa (mg/dL):",
            "description_tooltip": null,
            "disabled": false,
            "layout": "IPY_MODEL_c88ff154ee7b44c182d716a0038b3913",
            "step": null,
            "style": "IPY_MODEL_cb453c95aceb4701a53b6b4882306fe3",
            "value": 75
          }
        },
        "c88ff154ee7b44c182d716a0038b3913": {
          "model_module": "@jupyter-widgets/base",
          "model_name": "LayoutModel",
          "model_module_version": "1.2.0",
          "state": {
            "_model_module": "@jupyter-widgets/base",
            "_model_module_version": "1.2.0",
            "_model_name": "LayoutModel",
            "_view_count": null,
            "_view_module": "@jupyter-widgets/base",
            "_view_module_version": "1.2.0",
            "_view_name": "LayoutView",
            "align_content": null,
            "align_items": null,
            "align_self": null,
            "border": null,
            "bottom": null,
            "display": null,
            "flex": null,
            "flex_flow": null,
            "grid_area": null,
            "grid_auto_columns": null,
            "grid_auto_flow": null,
            "grid_auto_rows": null,
            "grid_column": null,
            "grid_gap": null,
            "grid_row": null,
            "grid_template_areas": null,
            "grid_template_columns": null,
            "grid_template_rows": null,
            "height": null,
            "justify_content": null,
            "justify_items": null,
            "left": null,
            "margin": null,
            "max_height": null,
            "max_width": null,
            "min_height": null,
            "min_width": null,
            "object_fit": null,
            "object_position": null,
            "order": null,
            "overflow": null,
            "overflow_x": null,
            "overflow_y": null,
            "padding": null,
            "right": null,
            "top": null,
            "visibility": null,
            "width": null
          }
        },
        "cb453c95aceb4701a53b6b4882306fe3": {
          "model_module": "@jupyter-widgets/controls",
          "model_name": "DescriptionStyleModel",
          "model_module_version": "1.5.0",
          "state": {
            "_model_module": "@jupyter-widgets/controls",
            "_model_module_version": "1.5.0",
            "_model_name": "DescriptionStyleModel",
            "_view_count": null,
            "_view_module": "@jupyter-widgets/base",
            "_view_module_version": "1.2.0",
            "_view_name": "StyleView",
            "description_width": ""
          }
        },
        "32ffb7e584ff4adf9da09e3edc4ac65f": {
          "model_module": "@jupyter-widgets/controls",
          "model_name": "ButtonModel",
          "model_module_version": "1.5.0",
          "state": {
            "_dom_classes": [],
            "_model_module": "@jupyter-widgets/controls",
            "_model_module_version": "1.5.0",
            "_model_name": "ButtonModel",
            "_view_count": null,
            "_view_module": "@jupyter-widgets/controls",
            "_view_module_version": "1.5.0",
            "_view_name": "ButtonView",
            "button_style": "",
            "description": "Analizar Salud",
            "disabled": false,
            "icon": "",
            "layout": "IPY_MODEL_a2edd2a39dcc455099771d092485452b",
            "style": "IPY_MODEL_44fc3e3b08874f828d9f927e7ad17300",
            "tooltip": ""
          }
        },
        "a2edd2a39dcc455099771d092485452b": {
          "model_module": "@jupyter-widgets/base",
          "model_name": "LayoutModel",
          "model_module_version": "1.2.0",
          "state": {
            "_model_module": "@jupyter-widgets/base",
            "_model_module_version": "1.2.0",
            "_model_name": "LayoutModel",
            "_view_count": null,
            "_view_module": "@jupyter-widgets/base",
            "_view_module_version": "1.2.0",
            "_view_name": "LayoutView",
            "align_content": null,
            "align_items": null,
            "align_self": null,
            "border": null,
            "bottom": null,
            "display": null,
            "flex": null,
            "flex_flow": null,
            "grid_area": null,
            "grid_auto_columns": null,
            "grid_auto_flow": null,
            "grid_auto_rows": null,
            "grid_column": null,
            "grid_gap": null,
            "grid_row": null,
            "grid_template_areas": null,
            "grid_template_columns": null,
            "grid_template_rows": null,
            "height": null,
            "justify_content": null,
            "justify_items": null,
            "left": null,
            "margin": null,
            "max_height": null,
            "max_width": null,
            "min_height": null,
            "min_width": null,
            "object_fit": null,
            "object_position": null,
            "order": null,
            "overflow": null,
            "overflow_x": null,
            "overflow_y": null,
            "padding": null,
            "right": null,
            "top": null,
            "visibility": null,
            "width": null
          }
        },
        "44fc3e3b08874f828d9f927e7ad17300": {
          "model_module": "@jupyter-widgets/controls",
          "model_name": "ButtonStyleModel",
          "model_module_version": "1.5.0",
          "state": {
            "_model_module": "@jupyter-widgets/controls",
            "_model_module_version": "1.5.0",
            "_model_name": "ButtonStyleModel",
            "_view_count": null,
            "_view_module": "@jupyter-widgets/base",
            "_view_module_version": "1.2.0",
            "_view_name": "StyleView",
            "button_color": null,
            "font_weight": ""
          }
        }
      }
    }
  },
  "cells": [
    {
      "cell_type": "markdown",
      "source": [
        "**DETECT MEDICAL DATA ABNORMALITIES USING AUTOENCODERS**"
      ],
      "metadata": {
        "id": "U6Ov7QqRuz-M"
      }
    },
    {
      "cell_type": "code",
      "source": [
        "import numpy as np\n",
        "import pandas as pd\n",
        "import tensorflow as tf\n",
        "from tensorflow import keras\n",
        "from sklearn.preprocessing import MinMaxScaler, StandardScaler\n",
        "from sklearn.ensemble import IsolationForest\n",
        "from sklearn.cluster import DBSCAN\n",
        "from sklearn.metrics import precision_score, recall_score, f1_score, roc_auc_score, confusion_matrix\n",
        "import matplotlib.pyplot as plt\n",
        "import seaborn as sns\n",
        "from sklearn.metrics import roc_curve, roc_auc_score\n",
        "from sklearn.model_selection import train_test_split\n",
        "\n",
        "# Generate normal simulated medical data\n",
        "np.random.seed(42)\n",
        "num_pacientes = 700\n",
        "data = {\n",
        "    \"patient_id\": [f\"P{str(i).zfill(3)}\" for i in range(num_pacientes)],\n",
        "    \"heart_rate\": np.random.normal(75, 10, num_pacientes),  # BPM\n",
        "    \"spo2\": np.random.normal(97, 2, num_pacientes),         # % oxígeno\n",
        "    \"temperature\": np.random.normal(36.6, 0.5, num_pacientes), # °C\n",
        "    \"glucose\": np.random.normal(90, 15, num_pacientes),        # mg/dL\n",
        "}\n",
        "\n",
        "# Convert into a dataframe before adding abnormalities\n",
        "df_medical = pd.DataFrame(data)\n",
        "\n",
        "# Create a column to identify normal data from abnormalities\n",
        "df_medical[\"label\"] = 0\n",
        "\n",
        "for i in range(200):\n",
        "    idx = np.random.randint(0, num_pacientes)\n",
        "\n",
        "    # Select values from risky ranges\n",
        "    df_medical.loc[idx, \"heart_rate\"] = np.random.choice([\n",
        "        np.random.randint(40, 60),\n",
        "        np.random.randint(160, 200)\n",
        "    ])\n",
        "    df_medical.loc[idx, \"spo2\"] = np.random.choice([\n",
        "        np.random.randint(30, 40),\n",
        "        np.random.randint(90, 96)\n",
        "    ])\n",
        "    df_medical.loc[idx, \"temperature\"] = np.random.choice([\n",
        "        np.random.uniform(34, 36),\n",
        "        np.random.uniform(39, 42)\n",
        "    ])\n",
        "    df_medical.loc[idx, \"glucose\"] = np.random.choice([\n",
        "        np.random.randint(50, 70),\n",
        "        np.random.randint(250, 320)\n",
        "    ])\n",
        "    df_medical.loc[idx, \"label\"] = 1\n",
        "\n",
        "# Normalize data\n",
        "scaler = MinMaxScaler()\n",
        "df_scaled = pd.DataFrame(scaler.fit_transform(df_medical.iloc[:, 1:-1]), columns=df_medical.columns[1:-1])\n",
        "\n",
        "# Split data\n",
        "df_train, df_test, y_train, y_test = train_test_split(df_scaled, df_medical[\"label\"], test_size=0.2, random_state=42)\n",
        "df_train = df_train[y_train == 0]  # Use only normal data\n"
      ],
      "metadata": {
        "id": "deCbeqROSecG"
      },
      "execution_count": 2,
      "outputs": []
    },
    {
      "cell_type": "code",
      "source": [
        "# Create Autoencoder\n",
        "input_dim = df_train.shape[1]\n",
        "\n",
        "autoencoder = keras.Sequential([\n",
        "    keras.layers.Dense(128, activation=\"relu\", input_shape=(input_dim,)),\n",
        "    keras.layers.Dense(64, activation=\"relu\"),\n",
        "    keras.layers.Dense(16, activation=\"relu\"),\n",
        "    keras.layers.Dropout(0.2),  # Dropout to avoid overfitting\n",
        "    keras.layers.Dense(64, activation=\"relu\"),\n",
        "    keras.layers.Dense(128, activation=\"relu\"),\n",
        "    keras.layers.Dense(input_dim, activation=\"sigmoid\")  # Rebuild data\n",
        "])\n",
        "\n",
        "autoencoder.compile(optimizer=\"adam\", loss=\"mse\")\n",
        "autoencoder.fit(df_train, df_train, epochs=100, batch_size=16, shuffle=True, verbose=0)\n",
        "\n",
        "# Evaluate reconstruction errors\n",
        "reconstructions_test = autoencoder.predict(df_test)\n",
        "mse_test = np.mean(np.power(df_test - reconstructions_test, 2), axis=1)\n",
        "\n",
        "# Adjust the optimal threshold using the roc curve\n",
        "fpr, tpr, thresholds = roc_curve(y_test, mse_test)\n",
        "optimal_idx = np.argmax(tpr - fpr)\n",
        "optimal_threshold = thresholds[optimal_idx]*1.2\n",
        "\n",
        "df_medical[\"autoencoder_anomaly\"] = 0\n",
        "df_medical.loc[df_test.index, \"autoencoder_anomaly\"] = (mse_test > optimal_threshold).astype(int) # Apply the optimal threshold\n"
      ],
      "metadata": {
        "colab": {
          "base_uri": "https://localhost:8080/"
        },
        "id": "KXiA_0DkSflX",
        "outputId": "10d442c1-2b7c-43cd-852e-a96a69ac0c98"
      },
      "execution_count": 4,
      "outputs": [
        {
          "output_type": "stream",
          "name": "stderr",
          "text": [
            "/usr/local/lib/python3.11/dist-packages/keras/src/layers/core/dense.py:87: UserWarning: Do not pass an `input_shape`/`input_dim` argument to a layer. When using Sequential models, prefer using an `Input(shape)` object as the first layer in the model instead.\n",
            "  super().__init__(activity_regularizer=activity_regularizer, **kwargs)\n"
          ]
        },
        {
          "output_type": "stream",
          "name": "stdout",
          "text": [
            "\u001b[1m5/5\u001b[0m \u001b[32m━━━━━━━━━━━━━━━━━━━━\u001b[0m\u001b[37m\u001b[0m \u001b[1m0s\u001b[0m 22ms/step\n"
          ]
        }
      ]
    },
    {
      "cell_type": "code",
      "source": [
        "# Calculate metrics\n",
        "y_pred = df_medical[\"autoencoder_anomaly\"].iloc[df_test.index].values\n",
        "\n",
        "precision = precision_score(y_test, y_pred)\n",
        "recall = recall_score(y_test, y_pred)\n",
        "f1 = f1_score(y_test, y_pred)\n",
        "roc_auc = roc_auc_score(y_test, mse_test)\n",
        "\n",
        "# Show results\n",
        "print(f\"📊 PRECISIÓN DEL MODELO:\")\n",
        "print(f\"✔ Precisión: {precision:.2f}\")\n",
        "print(f\"✔ Recall (Sensibilidad): {recall:.2f}\")\n",
        "print(f\"✔ F1-score: {f1:.2f}\")\n",
        "print(f\"✔ ROC-AUC: {roc_auc:.2f}\")\n",
        "\n",
        "# Confusion matrix\n",
        "conf_matrix = confusion_matrix(y_test, y_pred)\n",
        "\n",
        "plt.figure(figsize=(6, 4))\n",
        "sns.heatmap(conf_matrix, annot=True, fmt=\"d\", cmap=\"Blues\",\n",
        "            xticklabels=[\"Normal\", \"Anomalía\"],\n",
        "            yticklabels=[\"Real Normal\", \"Real Anomalía\"])\n",
        "\n",
        "plt.xlabel(\"Predicción\")\n",
        "plt.ylabel(\"Real\")\n",
        "plt.title(\"Matriz de Confusión Actualizada\")\n",
        "plt.show()\n",
        "\n",
        "# ROC curve\n",
        "fpr, tpr, _ = roc_curve(y_test, mse_test)\n",
        "roc_auc = roc_auc_score(y_test, mse_test)\n",
        "\n",
        "plt.figure(figsize=(6, 4))\n",
        "plt.plot(fpr, tpr, label=f\"ROC Curve (AUC = {roc_auc:.2f})\", linewidth=2)\n",
        "plt.plot([0, 1], [0, 1], linestyle=\"--\", color=\"gray\", linewidth=1)\n",
        "\n",
        "plt.xlabel(\"Tasa de Falsos Positivos (FPR)\")\n",
        "plt.ylabel(\"Tasa de Verdaderos Positivos (TPR)\")\n",
        "plt.title(\"Curva ROC Actualizada\")\n",
        "plt.legend()\n",
        "plt.show()\n",
        "\n",
        "# Reconstruction error distribution\n",
        "plt.figure(figsize=(8, 4))\n",
        "sns.histplot(mse_test[y_test == 0], color=\"blue\", label=\"Normal\", kde=True)\n",
        "sns.histplot(mse_test[y_test == 1], color=\"red\", label=\"Anomalía\", kde=True)\n",
        "plt.axvline(optimal_threshold, color=\"black\", linestyle=\"--\", label=\"Umbral óptimo\")\n",
        "plt.title(\"Distribución del error de reconstrucción\")\n",
        "plt.xlabel(\"Error MSE\")\n",
        "plt.legend()\n",
        "plt.show()"
      ],
      "metadata": {
        "colab": {
          "base_uri": "https://localhost:8080/",
          "height": 1000
        },
        "id": "phERhCEdY4tG",
        "outputId": "ad2906df-c0b1-4811-ca64-d33ba134f78d"
      },
      "execution_count": 5,
      "outputs": [
        {
          "output_type": "stream",
          "name": "stdout",
          "text": [
            "📊 PRECISIÓN DEL MODELO:\n",
            "✔ Precisión: 1.00\n",
            "✔ Recall (Sensibilidad): 0.95\n",
            "✔ F1-score: 0.97\n",
            "✔ ROC-AUC: 1.00\n"
          ]
        },
        {
          "output_type": "display_data",
          "data": {
            "text/plain": [
              "<Figure size 600x400 with 2 Axes>"
            ],
            "image/png": "[encoded data removed]"
          },
          "metadata": {}
        },
        {
          "output_type": "display_data",
          "data": {
            "text/plain": [
              "<Figure size 600x400 with 1 Axes>"
            ],
            "image/png": "[encoded data removed]"
          },
          "metadata": {}
        },
        {
          "output_type": "display_data",
          "data": {
            "text/plain": [
              "<Figure size 800x400 with 1 Axes>"
            ],
            "image/png": "[encoded data removed]"
          },
          "metadata": {}
        }
      ]
    },
    {
      "cell_type": "markdown",
      "source": [
        "**IMPROVE THE MODEL APPLYING ISOLATION FOREST AND DBSCAN**"
      ],
      "metadata": {
        "id": "UTbMas8mvOpE"
      }
    },
    {
      "cell_type": "code",
      "source": [
        "# Prove that df_train and df_test only have original characteristics\n",
        "features = df_train.columns\n",
        "df_test_filtered = df_test[features]\n",
        "\n",
        "# Apply Isolation Forest (trained with normal data)\n",
        "iso_forest = IsolationForest(contamination=0.05, random_state=42)\n",
        "iso_forest.fit(df_train)\n",
        "\n",
        "# Apply the model to test data\n",
        "df_test[\"isolation_anomaly\"] = iso_forest.predict(df_test_filtered) == -1  # -1 indicates an abnormality\n",
        "\n",
        "# Apply DBSCAN\n",
        "scaler = StandardScaler()\n",
        "df_test_scaled = scaler.fit_transform(df_test_filtered)\n",
        "\n",
        "dbscan = DBSCAN(eps=1, min_samples=5)  # Ajust to improve precision\n",
        "df_test[\"dbscan_cluster\"] = dbscan.fit_predict(df_test_scaled)\n",
        "df_test[\"dbscan_anomaly\"] = df_test[\"dbscan_cluster\"] == -1  # -1 indicates an abnormality\n",
        "\n",
        "df_test[\"autoencoder_anomaly\"] = df_medical.loc[df_test.index, \"autoencoder_anomaly\"]\n",
        "\n",
        "# Final abnormality if at least two models identify it\n",
        "df_test[\"final_anomaly\"] = (\n",
        "    (df_test[\"autoencoder_anomaly\"] + df_test[\"isolation_anomaly\"] + df_test[\"dbscan_anomaly\"]) >= 2\n",
        ")\n",
        "\n",
        "# Convert into integers\n",
        "df_test[\"isolation_anomaly\"] = df_test[\"isolation_anomaly\"].astype(int)\n",
        "df_test[\"dbscan_anomaly\"] = df_test[\"dbscan_anomaly\"].astype(int)\n",
        "df_test[\"final_anomaly\"] = df_test[\"final_anomaly\"].astype(int)\n"
      ],
      "metadata": {
        "id": "in2A9HBUSnNv"
      },
      "execution_count": 6,
      "outputs": []
    },
    {
      "cell_type": "code",
      "source": [
        "# Calculate metrics\n",
        "precision = precision_score(y_test, df_test[\"final_anomaly\"])\n",
        "recall = recall_score(y_test, df_test[\"final_anomaly\"])\n",
        "f1 = f1_score(y_test, df_test[\"final_anomaly\"])\n",
        "roc_auc = roc_auc_score(y_test, mse_test)\n",
        "\n",
        "# Show results\n",
        "print(f\"📊 PRECISIÓN MEJORADA DEL MODELO:\")\n",
        "print(f\"✔ Precisión: {precision:.2f}\")\n",
        "print(f\"✔ Recall (Sensibilidad): {recall:.2f}\")\n",
        "print(f\"✔ F1-score: {f1:.2f}\")\n",
        "print(f\"✔ ROC-AUC: {roc_auc:.2f}\")\n",
        "\n",
        "# Confusion matrix\n",
        "conf_matrix = confusion_matrix(y_test, df_test[\"final_anomaly\"])\n",
        "\n",
        "plt.figure(figsize=(6, 4))\n",
        "sns.heatmap(conf_matrix, annot=True, fmt=\"d\", cmap=\"Blues\",\n",
        "            xticklabels=[\"Normal\", \"Anomalía\"], yticklabels=[\"Real Normal\", \"Real Anomalía\"])\n",
        "plt.xlabel(\"Predicción\")\n",
        "plt.ylabel(\"Real\")\n",
        "plt.title(\"Matriz de Confusión Mejorada\")\n",
        "plt.show()"
      ],
      "metadata": {
        "colab": {
          "base_uri": "https://localhost:8080/",
          "height": 502
        },
        "id": "vnDua_QpdH9v",
        "outputId": "f1630045-1310-4e9d-b746-0c36fc0bb548"
      },
      "execution_count": 7,
      "outputs": [
        {
          "output_type": "stream",
          "name": "stdout",
          "text": [
            "📊 PRECISIÓN MEJORADA DEL MODELO:\n",
            "✔ Precisión: 1.00\n",
            "✔ Recall (Sensibilidad): 0.95\n",
            "✔ F1-score: 0.97\n",
            "✔ ROC-AUC: 1.00\n"
          ]
        },
        {
          "output_type": "display_data",
          "data": {
            "text/plain": [
              "<Figure size 600x400 with 2 Axes>"
            ],
            "image/png": "[encoded data removed]"
          },
          "metadata": {}
        }
      ]
    },
    {
      "cell_type": "markdown",
      "source": [
        "Now, the next risk prediction model is different from Autoencoders, Isolation Forest, and DBSCAN (unsupervised learning). Instead of detecting anomalies based on deviations, it learns from the predictions of those methods using supervised learning.\n",
        "\n",
        "✅ **Benefits of this model:**\n",
        "\n",
        "*Supervised learning from combined anomaly detection methods:*\n",
        "It improves anomaly detection by learning patterns from previous predictions.\n",
        "\n",
        "*Generalization and reusability:*\n",
        "Once trained, it can be used on new patients without recalibrating Autoencoder or Isolation Forest.\n",
        "\n",
        "*Enhances precision by combining multiple models:*\n",
        "Instead of relying on a single method, it integrates multiple signals.\n",
        "\n",
        "*Can be deployed in clinical settings:*\n",
        "It provides a risk score (0 to 1) for anomaly detection.\n",
        "\n",
        "*Can continuously improve:*\n",
        "The model can be retrained with new data to enhance its accuracy."
      ],
      "metadata": {
        "id": "1YOZyIvz2_Yz"
      }
    },
    {
      "cell_type": "code",
      "source": [
        "from sklearn.metrics import classification_report\n",
        "from tensorflow.keras.layers import BatchNormalization\n",
        "\n",
        "for col in [\"autoencoder_anomaly\", \"isolation_anomaly\", \"dbscan_anomaly\", \"final_anomaly\"]:\n",
        "    if col not in df_medical.columns:\n",
        "        df_medical[col] = 0  # Inicializar con 0 por si hay valores que no estén en df_test\n",
        "    df_medical.loc[df_test.index, col] = df_test[col]\n",
        "\n",
        "# Balance data\n",
        "df_balanced = df_medical.groupby(\"final_anomaly\", group_keys=False).apply(lambda x: x.sample(min(len(x), 100)))\n",
        "X_balanced = df_scaled.loc[df_balanced.index]\n",
        "y_balanced = df_balanced[\"final_anomaly\"]\n",
        "\n",
        "# Define the model\n",
        "risk_model = keras.Sequential([\n",
        "    keras.layers.Dense(128, activation=\"relu\", input_shape=(X_balanced.shape[1],)),\n",
        "    BatchNormalization(),\n",
        "    keras.layers.Dropout(0.4),\n",
        "    keras.layers.Dense(64, activation=\"relu\"),\n",
        "    BatchNormalization(),\n",
        "    keras.layers.Dense(32, activation=\"relu\"),\n",
        "    keras.layers.Dense(16, activation=\"relu\"),\n",
        "    keras.layers.Dense(1, activation=\"sigmoid\")\n",
        "])\n",
        "\n",
        "# Train the model\n",
        "risk_model.compile(optimizer=\"adam\", loss=\"binary_crossentropy\", metrics=[\"accuracy\"])\n",
        "risk_model.fit(X_balanced, y_balanced, epochs=30, batch_size=10, verbose=0)\n",
        "\n",
        "y_scores = risk_model.predict(X_balanced).flatten()\n",
        "fpr, tpr, thresholds = roc_curve(y_balanced, y_scores)\n",
        "optimal_idx = np.argmax(tpr - fpr)  # Encuentra el mejor punto\n",
        "optimal_threshold = thresholds[optimal_idx]*1.2  # Establece el umbral óptimo\n",
        "\n",
        "y_pred_balanced = (y_scores > optimal_threshold).astype(int)\n",
        "\n",
        "# Show classification_report\n",
        "print(\"📊 Informe del modelo supervisado de riesgo (balanceado):\")\n",
        "print(classification_report(y_balanced, y_pred_balanced))\n",
        "\n",
        "# Confusion matrix\n",
        "conf_matrix = confusion_matrix(y_balanced, y_pred_balanced)\n",
        "plt.figure(figsize=(6, 4))\n",
        "sns.heatmap(conf_matrix, annot=True, fmt=\"d\", cmap=\"Greens\",\n",
        "            xticklabels=[\"Normal\", \"Anomalía\"], yticklabels=[\"Real Normal\", \"Real Anomalía\"])\n",
        "plt.xlabel(\"Predicción\")\n",
        "plt.ylabel(\"Real\")\n",
        "plt.title(\"Matriz de Confusión - Modelo de Riesgo (Balanceado)\")\n",
        "plt.show()\n",
        "\n"
      ],
      "metadata": {
        "colab": {
          "base_uri": "https://localhost:8080/",
          "height": 703
        },
        "id": "9jEU3ltaSykT",
        "outputId": "647e02fc-f38b-481a-ec88-b60a037f7cfc"
      },
      "execution_count": 33,
      "outputs": [
        {
          "output_type": "stream",
          "name": "stderr",
          "text": [
            "<ipython-input-33-e96fde5cb65b>:10: DeprecationWarning: DataFrameGroupBy.apply operated on the grouping columns. This behavior is deprecated, and in a future version of pandas the grouping columns will be excluded from the operation. Either pass `include_groups=False` to exclude the groupings or explicitly select the grouping columns after groupby to silence this warning.\n",
            "  df_balanced = df_medical.groupby(\"final_anomaly\", group_keys=False).apply(lambda x: x.sample(min(len(x), 100)))\n",
            "/usr/local/lib/python3.11/dist-packages/keras/src/layers/core/dense.py:87: UserWarning: Do not pass an `input_shape`/`input_dim` argument to a layer. When using Sequential models, prefer using an `Input(shape)` object as the first layer in the model instead.\n",
            "  super().__init__(activity_regularizer=activity_regularizer, **kwargs)\n"
          ]
        },
        {
          "output_type": "stream",
          "name": "stdout",
          "text": [
            "\u001b[1m5/5\u001b[0m \u001b[32m━━━━━━━━━━━━━━━━━━━━\u001b[0m\u001b[37m\u001b[0m \u001b[1m0s\u001b[0m 31ms/step\n",
            "📊 Informe del modelo supervisado de riesgo (balanceado):\n",
            "              precision    recall  f1-score   support\n",
            "\n",
            "           0       0.95      0.93      0.94       100\n",
            "           1       0.83      0.87      0.85        39\n",
            "\n",
            "    accuracy                           0.91       139\n",
            "   macro avg       0.89      0.90      0.89       139\n",
            "weighted avg       0.92      0.91      0.91       139\n",
            "\n"
          ]
        },
        {
          "output_type": "display_data",
          "data": {
            "text/plain": [
              "<Figure size 600x400 with 2 Axes>"
            ],
            "image/png": "[encoded data removed]"
          },
          "metadata": {}
        }
      ]
    },
    {
      "cell_type": "code",
      "source": [
        "from sklearn.preprocessing import MinMaxScaler\n",
        "import ipywidgets as widgets\n",
        "from IPython.display import display\n",
        "\n",
        "# Load the model\n",
        "modelo_supervisado = risk_model\n",
        "\n",
        "# Create widgets to introduce medical data\n",
        "heart_rate = widgets.FloatText(value=75, description=\"Frecuencia cardíaca:\")\n",
        "spo2 = widgets.FloatText(value=97, description=\"SpO2 (%):\")\n",
        "temperature = widgets.FloatText(value=36.6, description=\"Temperatura (°C):\")\n",
        "glucose = widgets.FloatText(value=90, description=\"Glucosa (mg/dL):\")\n",
        "\n",
        "btn_predict = widgets.Button(description=\"Analizar Salud\")\n",
        "\n",
        "# Show fields\n",
        "display(heart_rate, spo2, temperature, glucose, btn_predict)\n",
        "\n",
        "# Normalize\n",
        "scaler = MinMaxScaler()\n",
        "scaler.fit([[65, 95, 36.1, 75],  # Min values expected\n",
        "            [85, 100, 37.1, 105]])  # Max values expected\n",
        "\n",
        "# Function to process data and make a prediction\n",
        "def analizar_paciente(b):\n",
        "    # Values introduced by the user\n",
        "    datos_usuario = np.array([[heart_rate.value, spo2.value, temperature.value, glucose.value]])\n",
        "\n",
        "    # Normalize data\n",
        "    datos_usuario_normalizados = scaler.transform(datos_usuario)\n",
        "\n",
        "    # Make the prediction\n",
        "    prediccion = modelo_supervisado.predict(datos_usuario_normalizados)[0][0]\n",
        "\n",
        "    # Interpret the result applying a threshold\n",
        "    resultado = \"🚨 ¡Posible Anomalía Detectada! 🚨\" if prediccion > 0.5 else \"✅ Estado de Salud Normal ✅\"\n",
        "\n",
        "    print(f\"\\n🔍 Resultado del Análisis: {resultado} (Score: {prediccion:.2f})\")\n",
        "\n",
        "# Link the button to the function\n",
        "btn_predict.on_click(analizar_paciente)\n"
      ],
      "metadata": {
        "colab": {
          "base_uri": "https://localhost:8080/",
          "height": 1000,
          "referenced_widgets": [
            "6e2cfd7cb6ef45e7aebd671313015fcd",
            "f327ea0cf75a42d3a2c31c1fea7e3aa5",
            "f9534ca6d0c843f9aac21887bfe1bf47",
            "537f794e07794d8ab3ad562bbdca4d01",
            "8a1c9631f41e451299510eba507207d9",
            "c6f50bc5fd7944f2addb3886887cc08b",
            "118a9c577d8243439d1b52ae82d85f3c",
            "c7ac4c82b7cc4514a111a9b85eb20909",
            "1e2be0f6339a4b86addeffc890106db9",
            "1dce89a98aa2426fa7963697887f3ee5",
            "c88ff154ee7b44c182d716a0038b3913",
            "cb453c95aceb4701a53b6b4882306fe3",
            "32ffb7e584ff4adf9da09e3edc4ac65f",
            "a2edd2a39dcc455099771d092485452b",
            "44fc3e3b08874f828d9f927e7ad17300"
          ]
        },
        "id": "qbYxfdDsF09e",
        "outputId": "651ceaea-d549-4a43-cf13-a7d4ed47f19e"
      },
      "execution_count": 34,
      "outputs": [
        {
          "output_type": "display_data",
          "data": {
            "text/plain": [
              "FloatText(value=75.0, description='Frecuencia cardíaca:')"
            ],
            "application/vnd.jupyter.widget-view+json": {
              "version_major": 2,
              "version_minor": 0,
              "model_id": "6e2cfd7cb6ef45e7aebd671313015fcd"
            }
          },
          "metadata": {}
        },
        {
          "output_type": "display_data",
          "data": {
            "text/plain": [
              "FloatText(value=97.0, description='SpO2 (%):')"
            ],
            "application/vnd.jupyter.widget-view+json": {
              "version_major": 2,
              "version_minor": 0,
              "model_id": "537f794e07794d8ab3ad562bbdca4d01"
            }
          },
          "metadata": {}
        },
        {
          "output_type": "display_data",
          "data": {
            "text/plain": [
              "FloatText(value=36.6, description='Temperatura (°C):')"
            ],
            "application/vnd.jupyter.widget-view+json": {
              "version_major": 2,
              "version_minor": 0,
              "model_id": "118a9c577d8243439d1b52ae82d85f3c"
            }
          },
          "metadata": {}
        },
        {
          "output_type": "display_data",
          "data": {
            "text/plain": [
              "FloatText(value=90.0, description='Glucosa (mg/dL):')"
            ],
            "application/vnd.jupyter.widget-view+json": {
              "version_major": 2,
              "version_minor": 0,
              "model_id": "1dce89a98aa2426fa7963697887f3ee5"
            }
          },
          "metadata": {}
        },
        {
          "output_type": "display_data",
          "data": {
            "text/plain": [
              "Button(description='Analizar Salud', style=ButtonStyle())"
            ],
            "application/vnd.jupyter.widget-view+json": {
              "version_major": 2,
              "version_minor": 0,
              "model_id": "32ffb7e584ff4adf9da09e3edc4ac65f"
            }
          },
          "metadata": {}
        },
        {
          "output_type": "stream",
          "name": "stdout",
          "text": [
            "\u001b[1m1/1\u001b[0m \u001b[32m━━━━━━━━━━━━━━━━━━━━\u001b[0m\u001b[37m\u001b[0m \u001b[1m0s\u001b[0m 38ms/step\n",
            "🔎 Debug - Predicción sin redondeo: 0.39\n",
            "\n",
            "🔍 Resultado del Análisis: ✅ Estado de Salud Normal ✅ (Score: 0.39)\n",
            "\u001b[1m1/1\u001b[0m \u001b[32m━━━━━━━━━━━━━━━━━━━━\u001b[0m\u001b[37m\u001b[0m \u001b[1m0s\u001b[0m 45ms/step\n",
            "🔎 Debug - Predicción sin redondeo: 0.72\n",
            "\n",
            "🔍 Resultado del Análisis: 🚨 ¡Posible Anomalía Detectada! 🚨 (Score: 0.72)\n",
            "\u001b[1m1/1\u001b[0m \u001b[32m━━━━━━━━━━━━━━━━━━━━\u001b[0m\u001b[37m\u001b[0m \u001b[1m0s\u001b[0m 48ms/step\n",
            "🔎 Debug - Predicción sin redondeo: 0.44\n",
            "\n",
            "🔍 Resultado del Análisis: ✅ Estado de Salud Normal ✅ (Score: 0.44)\n",
            "\u001b[1m1/1\u001b[0m \u001b[32m━━━━━━━━━━━━━━━━━━━━\u001b[0m\u001b[37m\u001b[0m \u001b[1m0s\u001b[0m 36ms/step\n",
            "🔎 Debug - Predicción sin redondeo: 0.66\n",
            "\n",
            "🔍 Resultado del Análisis: 🚨 ¡Posible Anomalía Detectada! 🚨 (Score: 0.66)\n",
            "\u001b[1m1/1\u001b[0m \u001b[32m━━━━━━━━━━━━━━━━━━━━\u001b[0m\u001b[37m\u001b[0m \u001b[1m0s\u001b[0m 35ms/step\n",
            "🔎 Debug - Predicción sin redondeo: 0.80\n",
            "\n",
            "🔍 Resultado del Análisis: 🚨 ¡Posible Anomalía Detectada! 🚨 (Score: 0.80)\n",
            "\u001b[1m1/1\u001b[0m \u001b[32m━━━━━━━━━━━━━━━━━━━━\u001b[0m\u001b[37m\u001b[0m \u001b[1m0s\u001b[0m 59ms/step\n",
            "🔎 Debug - Predicción sin redondeo: 0.44\n",
            "\n",
            "🔍 Resultado del Análisis: ✅ Estado de Salud Normal ✅ (Score: 0.44)\n",
            "\u001b[1m1/1\u001b[0m \u001b[32m━━━━━━━━━━━━━━━━━━━━\u001b[0m\u001b[37m\u001b[0m \u001b[1m0s\u001b[0m 38ms/step\n",
            "🔎 Debug - Predicción sin redondeo: 0.22\n",
            "\n",
            "🔍 Resultado del Análisis: ✅ Estado de Salud Normal ✅ (Score: 0.22)\n",
            "\u001b[1m1/1\u001b[0m \u001b[32m━━━━━━━━━━━━━━━━━━━━\u001b[0m\u001b[37m\u001b[0m \u001b[1m0s\u001b[0m 39ms/step\n",
            "🔎 Debug - Predicción sin redondeo: 0.05\n",
            "\n",
            "🔍 Resultado del Análisis: ✅ Estado de Salud Normal ✅ (Score: 0.05)\n",
            "\u001b[1m1/1\u001b[0m \u001b[32m━━━━━━━━━━━━━━━━━━━━\u001b[0m\u001b[37m\u001b[0m \u001b[1m0s\u001b[0m 41ms/step\n",
            "🔎 Debug - Predicción sin redondeo: 0.03\n",
            "\n",
            "🔍 Resultado del Análisis: ✅ Estado de Salud Normal ✅ (Score: 0.03)\n",
            "\u001b[1m1/1\u001b[0m \u001b[32m━━━━━━━━━━━━━━━━━━━━\u001b[0m\u001b[37m\u001b[0m \u001b[1m0s\u001b[0m 59ms/step\n",
            "🔎 Debug - Predicción sin redondeo: 0.37\n",
            "\n",
            "🔍 Resultado del Análisis: ✅ Estado de Salud Normal ✅ (Score: 0.37)\n",
            "\u001b[1m1/1\u001b[0m \u001b[32m━━━━━━━━━━━━━━━━━━━━\u001b[0m\u001b[37m\u001b[0m \u001b[1m0s\u001b[0m 38ms/step\n",
            "🔎 Debug - Predicción sin redondeo: 0.92\n",
            "\n",
            "🔍 Resultado del Análisis: 🚨 ¡Posible Anomalía Detectada! 🚨 (Score: 0.92)\n",
            "\u001b[1m1/1\u001b[0m \u001b[32m━━━━━━━━━━━━━━━━━━━━\u001b[0m\u001b[37m\u001b[0m \u001b[1m0s\u001b[0m 64ms/step\n",
            "🔎 Debug - Predicción sin redondeo: 0.99\n",
            "\n",
            "🔍 Resultado del Análisis: 🚨 ¡Posible Anomalía Detectada! 🚨 (Score: 0.99)\n"
          ]
        }
      ]
    },
    {
      "cell_type": "markdown",
      "source": [
        "Now we will use LSTM (Long Short-Term Memory), a recurrent neural network (RNN) that analyzes medical data over time.\n",
        "\n",
        "📌 What does this improve?\n",
        "\n",
        "✅ Uses historical data → Analyzes medical trends over time.\n",
        "\n",
        "✅ Predicts if a patient will develop an anomaly in the future → Based on past data.\n",
        "\n",
        "✅ More useful for clinical applications → Helps anticipate medical risks."
      ],
      "metadata": {
        "id": "74F1L3IWWiK4"
      }
    },
    {
      "cell_type": "code",
      "source": [
        "import numpy as np\n",
        "import pandas as pd\n",
        "import tensorflow as tf\n",
        "from tensorflow.keras.models import Sequential\n",
        "from tensorflow.keras.layers import LSTM, Dense, Layer, Multiply, Softmax, Permute, Lambda, Dropout\n",
        "from tensorflow.keras import backend as K\n",
        "from sklearn.preprocessing import MinMaxScaler\n",
        "from sklearn.metrics import precision_score, recall_score, f1_score, roc_auc_score, confusion_matrix, roc_curve\n",
        "\n",
        "import matplotlib.pyplot as plt\n",
        "import seaborn as sns\n",
        "\n",
        "# Generate temporal simulated data (60 days)\n",
        "np.random.seed(42)\n",
        "num_pacientes = 500\n",
        "timesteps = 60\n",
        "\n",
        "historical_data = []\n",
        "labels = []\n",
        "\n",
        "for i in range(num_pacientes):\n",
        "    paciente_id = f\"P{str(i).zfill(3)}\"\n",
        "\n",
        "    # Create historical data for each patient\n",
        "    heart_rate = np.random.normal(75, 10, timesteps)\n",
        "    spo2 = np.random.normal(97, 2, timesteps)\n",
        "    temperature = np.random.normal(36.6, 0.5, timesteps)\n",
        "    systolic_bp = np.random.normal(120, 15, timesteps)\n",
        "    diastolic_bp = np.random.normal(80, 10, timesteps)\n",
        "    glucose = np.random.normal(90, 15, timesteps)\n",
        "    bmi = np.random.normal(25, 5, timesteps)\n",
        "\n",
        "    # Real label (1 if there is an abnormality in the lasts days)\n",
        "    label = 0\n",
        "    if np.random.rand() < 0.2:  # 20% of abnormalities\n",
        "        idx = np.random.randint(40, 60)  # Abnormalities in last 20 days\n",
        "        for j in range(idx, timesteps):  # Progressive change\n",
        "            heart_rate[j] += np.random.choice([-30, 50])\n",
        "            glucose[j] += np.random.choice([-40, 100])\n",
        "            spo2[j] -= np.random.choice([5, 10])\n",
        "        label = 1  # Mark as abnormalitie\n",
        "\n",
        "    # Save data\n",
        "    for t in range(timesteps):\n",
        "        historical_data.append([paciente_id, t, heart_rate[t], spo2[t], temperature[t], systolic_bp[t], diastolic_bp[t], glucose[t], bmi[t]])\n",
        "\n",
        "    labels.append(label)\n",
        "\n",
        "# Convert into a dataframe\n",
        "df_timeseries = pd.DataFrame(historical_data, columns=[\n",
        "    \"patient_id\", \"day\", \"heart_rate\", \"spo2\", \"temperature\", \"systolic_bp\", \"diastolic_bp\", \"glucose\", \"bmi\"\n",
        "])\n",
        "df_labels = pd.DataFrame({\"patient_id\": [f\"P{str(i).zfill(3)}\" for i in range(num_pacientes)], \"label\": labels})\n",
        "\n",
        "# Normalize data\n",
        "scaler = MinMaxScaler()\n",
        "df_timeseries.iloc[:, 2:] = scaler.fit_transform(df_timeseries.iloc[:, 2:])\n"
      ],
      "metadata": {
        "id": "wrXH5ZVPW892"
      },
      "execution_count": 106,
      "outputs": []
    },
    {
      "cell_type": "code",
      "source": [
        "# Prepare data for LSTM\n",
        "X_data = []\n",
        "y_data = []\n",
        "\n",
        "for patient in df_timeseries[\"patient_id\"].unique():\n",
        "    patient_data = df_timeseries[df_timeseries[\"patient_id\"] == patient].iloc[:, 2:].values\n",
        "    label = df_labels[df_labels[\"patient_id\"] == patient][\"label\"].values[0]\n",
        "\n",
        "    X_data.append(patient_data[:-1])  # Use the first 59 days\n",
        "    y_data.append(label)  # Binary prediction (0: Normal, 1: Abnormality)\n",
        "\n",
        "X_data = np.array(X_data)\n",
        "y_data = np.array(y_data)\n",
        "\n",
        "# Split into train and test\n",
        "X_train, X_test, y_train, y_test = train_test_split(X_data, y_data, test_size=0.2, stratify=y_data, random_state=42)\n",
        "\n",
        "# Define improved attention layer\n",
        "class Attention(Layer):\n",
        "    def __init__(self):\n",
        "        super(Attention, self).__init__()\n",
        "\n",
        "    def build(self, input_shape):\n",
        "        self.W = self.add_weight(shape=(input_shape[-1], 1), initializer=\"random_normal\", trainable=True)\n",
        "        self.b = self.add_weight(shape=(1,), initializer=\"zeros\", trainable=True)\n",
        "\n",
        "    def call(self, inputs):\n",
        "        score = tf.nn.tanh(tf.matmul(inputs, self.W) + self.b)\n",
        "        attention_weights = tf.nn.softmax(score, axis=1)\n",
        "        return Multiply()([inputs, attention_weights])\n",
        "\n",
        "# Define the LSTM model with binary prediction\n",
        "lstm_model = Sequential([\n",
        "    LSTM(64, return_sequences=True, input_shape=(X_train.shape[1], X_train.shape[2])),\n",
        "    LSTM(32, return_sequences=True),\n",
        "    Attention(),  # Attention layer\n",
        "    LSTM(16, return_sequences=False),\n",
        "    Dense(1, activation=\"sigmoid\")\n",
        "])\n",
        "\n",
        "lstm_model.compile(optimizer=\"adam\", loss=\"binary_crossentropy\", metrics=[\"accuracy\"])\n",
        "\n",
        "# Train the model\n",
        "lstm_model.fit(X_train, y_train, epochs=50, batch_size=16, validation_data=(X_test, y_test), shuffle=True, verbose=1)\n",
        "\n",
        "# Make predictions\n",
        "y_pred_proba = lstm_model.predict(X_test).flatten()\n",
        "y_pred = (y_pred_proba > 0.35).astype(int)  # Convert into binary values\n",
        "\n",
        "# Evaluate the model\n",
        "precision = precision_score(y_test, y_pred)\n",
        "recall = recall_score(y_test, y_pred)\n",
        "f1 = f1_score(y_test, y_pred)\n",
        "roc_auc = roc_auc_score(y_test, y_pred_proba)\n",
        "\n",
        "print(f\"📊 Evaluación del modelo LSTM:\")\n",
        "print(f\"✔ Precisión: {precision:.2f}\")\n",
        "print(f\"✔ Recall (Sensibilidad): {recall:.2f}\")\n",
        "print(f\"✔ F1-score: {f1:.2f}\")\n",
        "print(f\"✔ ROC-AUC: {roc_auc:.2f}\")\n",
        "\n",
        "# Confusion matrix\n",
        "conf_matrix = confusion_matrix(y_test, y_pred)\n",
        "plt.figure(figsize=(6, 4))\n",
        "sns.heatmap(conf_matrix, annot=True, fmt=\"d\", cmap=\"Blues\",\n",
        "            xticklabels=[\"Normal\", \"Anomalía\"], yticklabels=[\"Real Normal\", \"Real Anomalía\"])\n",
        "plt.xlabel(\"Predicción\")\n",
        "plt.ylabel(\"Real\")\n",
        "plt.title(\"Matriz de Confusión - LSTM\")\n",
        "plt.show()\n",
        "\n",
        "# ROC curve\n",
        "fpr, tpr, _ = roc_curve(y_test, y_pred_proba)\n",
        "plt.figure(figsize=(6, 4))\n",
        "plt.plot(fpr, tpr, label=f\"ROC Curve (AUC = {roc_auc:.2f})\")\n",
        "plt.plot([0, 1], [0, 1], linestyle=\"--\", color=\"gray\")\n",
        "plt.xlabel(\"Tasa de Falsos Positivos\")\n",
        "plt.ylabel(\"Tasa de Verdaderos Positivos\")\n",
        "plt.title(\"Curva ROC - LSTM\")\n",
        "plt.legend()\n",
        "plt.show()"
      ],
      "metadata": {
        "colab": {
          "base_uri": "https://localhost:8080/",
          "height": 1000
        },
        "id": "agEfGt0Y7kib",
        "outputId": "fd0fe31a-d87c-459e-e2a6-17e39c4488ad"
      },
      "execution_count": 107,
      "outputs": [
        {
          "output_type": "stream",
          "name": "stderr",
          "text": [
            "/usr/local/lib/python3.11/dist-packages/keras/src/layers/rnn/rnn.py:200: UserWarning: Do not pass an `input_shape`/`input_dim` argument to a layer. When using Sequential models, prefer using an `Input(shape)` object as the first layer in the model instead.\n",
            "  super().__init__(**kwargs)\n"
          ]
        },
        {
          "output_type": "stream",
          "name": "stdout",
          "text": [
            "Epoch 1/50\n",
            "\u001b[1m25/25\u001b[0m \u001b[32m━━━━━━━━━━━━━━━━━━━━\u001b[0m\u001b[37m\u001b[0m \u001b[1m9s\u001b[0m 125ms/step - accuracy: 0.7854 - loss: 0.6558 - val_accuracy: 0.7800 - val_loss: 0.5345\n",
            "Epoch 2/50\n",
            "\u001b[1m25/25\u001b[0m \u001b[32m━━━━━━━━━━━━━━━━━━━━\u001b[0m\u001b[37m\u001b[0m \u001b[1m5s\u001b[0m 116ms/step - accuracy: 0.7830 - loss: 0.5303 - val_accuracy: 0.7800 - val_loss: 0.5319\n",
            "Epoch 3/50\n",
            "\u001b[1m25/25\u001b[0m \u001b[32m━━━━━━━━━━━━━━━━━━━━\u001b[0m\u001b[37m\u001b[0m \u001b[1m3s\u001b[0m 104ms/step - accuracy: 0.7692 - loss: 0.5431 - val_accuracy: 0.7800 - val_loss: 0.5312\n",
            "Epoch 4/50\n",
            "\u001b[1m25/25\u001b[0m \u001b[32m━━━━━━━━━━━━━━━━━━━━\u001b[0m\u001b[37m\u001b[0m \u001b[1m5s\u001b[0m 97ms/step - accuracy: 0.7892 - loss: 0.5181 - val_accuracy: 0.7800 - val_loss: 0.5279\n",
            "Epoch 5/50\n",
            "\u001b[1m25/25\u001b[0m \u001b[32m━━━━━━━━━━━━━━━━━━━━\u001b[0m\u001b[37m\u001b[0m \u001b[1m2s\u001b[0m 92ms/step - accuracy: 0.7718 - loss: 0.5386 - val_accuracy: 0.7800 - val_loss: 0.5276\n",
            "Epoch 6/50\n",
            "\u001b[1m25/25\u001b[0m \u001b[32m━━━━━━━━━━━━━━━━━━━━\u001b[0m\u001b[37m\u001b[0m \u001b[1m3s\u001b[0m 128ms/step - accuracy: 0.7657 - loss: 0.5436 - val_accuracy: 0.7800 - val_loss: 0.5273\n",
            "Epoch 7/50\n",
            "\u001b[1m25/25\u001b[0m \u001b[32m━━━━━━━━━━━━━━━━━━━━\u001b[0m\u001b[37m\u001b[0m \u001b[1m2s\u001b[0m 96ms/step - accuracy: 0.7694 - loss: 0.5451 - val_accuracy: 0.7800 - val_loss: 0.5269\n",
            "Epoch 8/50\n",
            "\u001b[1m25/25\u001b[0m \u001b[32m━━━━━━━━━━━━━━━━━━━━\u001b[0m\u001b[37m\u001b[0m \u001b[1m3s\u001b[0m 96ms/step - accuracy: 0.7977 - loss: 0.5064 - val_accuracy: 0.7800 - val_loss: 0.5269\n",
            "Epoch 9/50\n",
            "\u001b[1m25/25\u001b[0m \u001b[32m━━━━━━━━━━━━━━━━━━━━\u001b[0m\u001b[37m\u001b[0m \u001b[1m2s\u001b[0m 90ms/step - accuracy: 0.7709 - loss: 0.5406 - val_accuracy: 0.7800 - val_loss: 0.5270\n",
            "Epoch 10/50\n",
            "\u001b[1m25/25\u001b[0m \u001b[32m━━━━━━━━━━━━━━━━━━━━\u001b[0m\u001b[37m\u001b[0m \u001b[1m3s\u001b[0m 96ms/step - accuracy: 0.7752 - loss: 0.5338 - val_accuracy: 0.7800 - val_loss: 0.5270\n",
            "Epoch 11/50\n",
            "\u001b[1m25/25\u001b[0m \u001b[32m━━━━━━━━━━━━━━━━━━━━\u001b[0m\u001b[37m\u001b[0m \u001b[1m3s\u001b[0m 132ms/step - accuracy: 0.7868 - loss: 0.5209 - val_accuracy: 0.7800 - val_loss: 0.5269\n",
            "Epoch 12/50\n",
            "\u001b[1m25/25\u001b[0m \u001b[32m━━━━━━━━━━━━━━━━━━━━\u001b[0m\u001b[37m\u001b[0m \u001b[1m2s\u001b[0m 94ms/step - accuracy: 0.7856 - loss: 0.5217 - val_accuracy: 0.7800 - val_loss: 0.5279\n",
            "Epoch 13/50\n",
            "\u001b[1m25/25\u001b[0m \u001b[32m━━━━━━━━━━━━━━━━━━━━\u001b[0m\u001b[37m\u001b[0m \u001b[1m2s\u001b[0m 92ms/step - accuracy: 0.7529 - loss: 0.5589 - val_accuracy: 0.7800 - val_loss: 0.5272\n",
            "Epoch 14/50\n",
            "\u001b[1m25/25\u001b[0m \u001b[32m━━━━━━━━━━━━━━━━━━━━\u001b[0m\u001b[37m\u001b[0m \u001b[1m2s\u001b[0m 89ms/step - accuracy: 0.7790 - loss: 0.5300 - val_accuracy: 0.7800 - val_loss: 0.5268\n",
            "Epoch 15/50\n",
            "\u001b[1m25/25\u001b[0m \u001b[32m━━━━━━━━━━━━━━━━━━━━\u001b[0m\u001b[37m\u001b[0m \u001b[1m3s\u001b[0m 91ms/step - accuracy: 0.7669 - loss: 0.5441 - val_accuracy: 0.7800 - val_loss: 0.5268\n",
            "Epoch 16/50\n",
            "\u001b[1m25/25\u001b[0m \u001b[32m━━━━━━━━━━━━━━━━━━━━\u001b[0m\u001b[37m\u001b[0m \u001b[1m3s\u001b[0m 124ms/step - accuracy: 0.8028 - loss: 0.4999 - val_accuracy: 0.7800 - val_loss: 0.5267\n",
            "Epoch 17/50\n",
            "\u001b[1m25/25\u001b[0m \u001b[32m━━━━━━━━━━━━━━━━━━━━\u001b[0m\u001b[37m\u001b[0m \u001b[1m4s\u001b[0m 96ms/step - accuracy: 0.7652 - loss: 0.5468 - val_accuracy: 0.7800 - val_loss: 0.5267\n",
            "Epoch 18/50\n",
            "\u001b[1m25/25\u001b[0m \u001b[32m━━━━━━━━━━━━━━━━━━━━\u001b[0m\u001b[37m\u001b[0m \u001b[1m2s\u001b[0m 90ms/step - accuracy: 0.7508 - loss: 0.5626 - val_accuracy: 0.7800 - val_loss: 0.5274\n",
            "Epoch 19/50\n",
            "\u001b[1m25/25\u001b[0m \u001b[32m━━━━━━━━━━━━━━━━━━━━\u001b[0m\u001b[37m\u001b[0m \u001b[1m2s\u001b[0m 96ms/step - accuracy: 0.7407 - loss: 0.5804 - val_accuracy: 0.7800 - val_loss: 0.5245\n",
            "Epoch 20/50\n",
            "\u001b[1m25/25\u001b[0m \u001b[32m━━━━━━━━━━━━━━━━━━━━\u001b[0m\u001b[37m\u001b[0m \u001b[1m3s\u001b[0m 132ms/step - accuracy: 0.7880 - loss: 0.5213 - val_accuracy: 0.7800 - val_loss: 0.5272\n",
            "Epoch 21/50\n",
            "\u001b[1m25/25\u001b[0m \u001b[32m━━━━━━━━━━━━━━━━━━━━\u001b[0m\u001b[37m\u001b[0m \u001b[1m2s\u001b[0m 94ms/step - accuracy: 0.7735 - loss: 0.5354 - val_accuracy: 0.7800 - val_loss: 0.5186\n",
            "Epoch 22/50\n",
            "\u001b[1m25/25\u001b[0m \u001b[32m━━━━━━━━━━━━━━━━━━━━\u001b[0m\u001b[37m\u001b[0m \u001b[1m2s\u001b[0m 92ms/step - accuracy: 0.7898 - loss: 0.5062 - val_accuracy: 0.7800 - val_loss: 0.5034\n",
            "Epoch 23/50\n",
            "\u001b[1m25/25\u001b[0m \u001b[32m━━━━━━━━━━━━━━━━━━━━\u001b[0m\u001b[37m\u001b[0m \u001b[1m2s\u001b[0m 89ms/step - accuracy: 0.7818 - loss: 0.5012 - val_accuracy: 0.7800 - val_loss: 0.5256\n",
            "Epoch 24/50\n",
            "\u001b[1m25/25\u001b[0m \u001b[32m━━━━━━━━━━━━━━━━━━━━\u001b[0m\u001b[37m\u001b[0m \u001b[1m2s\u001b[0m 90ms/step - accuracy: 0.7595 - loss: 0.5539 - val_accuracy: 0.7800 - val_loss: 0.5267\n",
            "Epoch 25/50\n",
            "\u001b[1m25/25\u001b[0m \u001b[32m━━━━━━━━━━━━━━━━━━━━\u001b[0m\u001b[37m\u001b[0m \u001b[1m3s\u001b[0m 135ms/step - accuracy: 0.8250 - loss: 0.4713 - val_accuracy: 0.7800 - val_loss: 0.5272\n",
            "Epoch 26/50\n",
            "\u001b[1m25/25\u001b[0m \u001b[32m━━━━━━━━━━━━━━━━━━━━\u001b[0m\u001b[37m\u001b[0m \u001b[1m4s\u001b[0m 96ms/step - accuracy: 0.7854 - loss: 0.5222 - val_accuracy: 0.7800 - val_loss: 0.5269\n",
            "Epoch 27/50\n",
            "\u001b[1m25/25\u001b[0m \u001b[32m━━━━━━━━━━━━━━━━━━━━\u001b[0m\u001b[37m\u001b[0m \u001b[1m3s\u001b[0m 102ms/step - accuracy: 0.7741 - loss: 0.5357 - val_accuracy: 0.7800 - val_loss: 0.5267\n",
            "Epoch 28/50\n",
            "\u001b[1m25/25\u001b[0m \u001b[32m━━━━━━━━━━━━━━━━━━━━\u001b[0m\u001b[37m\u001b[0m \u001b[1m2s\u001b[0m 96ms/step - accuracy: 0.7692 - loss: 0.5426 - val_accuracy: 0.7800 - val_loss: 0.5267\n",
            "Epoch 29/50\n",
            "\u001b[1m25/25\u001b[0m \u001b[32m━━━━━━━━━━━━━━━━━━━━\u001b[0m\u001b[37m\u001b[0m \u001b[1m3s\u001b[0m 133ms/step - accuracy: 0.7572 - loss: 0.5582 - val_accuracy: 0.7800 - val_loss: 0.5267\n",
            "Epoch 30/50\n",
            "\u001b[1m25/25\u001b[0m \u001b[32m━━━━━━━━━━━━━━━━━━━━\u001b[0m\u001b[37m\u001b[0m \u001b[1m2s\u001b[0m 96ms/step - accuracy: 0.7684 - loss: 0.5408 - val_accuracy: 0.7800 - val_loss: 0.5263\n",
            "Epoch 31/50\n",
            "\u001b[1m25/25\u001b[0m \u001b[32m━━━━━━━━━━━━━━━━━━━━\u001b[0m\u001b[37m\u001b[0m \u001b[1m2s\u001b[0m 92ms/step - accuracy: 0.7422 - loss: 0.5750 - val_accuracy: 0.7800 - val_loss: 0.5262\n",
            "Epoch 32/50\n",
            "\u001b[1m25/25\u001b[0m \u001b[32m━━━━━━━━━━━━━━━━━━━━\u001b[0m\u001b[37m\u001b[0m \u001b[1m3s\u001b[0m 96ms/step - accuracy: 0.7806 - loss: 0.5262 - val_accuracy: 0.7800 - val_loss: 0.5260\n",
            "Epoch 33/50\n",
            "\u001b[1m25/25\u001b[0m \u001b[32m━━━━━━━━━━━━━━━━━━━━\u001b[0m\u001b[37m\u001b[0m \u001b[1m2s\u001b[0m 91ms/step - accuracy: 0.7905 - loss: 0.5133 - val_accuracy: 0.7800 - val_loss: 0.5191\n",
            "Epoch 34/50\n",
            "\u001b[1m25/25\u001b[0m \u001b[32m━━━━━━━━━━━━━━━━━━━━\u001b[0m\u001b[37m\u001b[0m \u001b[1m3s\u001b[0m 132ms/step - accuracy: 0.7808 - loss: 0.5146 - val_accuracy: 0.7800 - val_loss: 0.5169\n",
            "Epoch 35/50\n",
            "\u001b[1m25/25\u001b[0m \u001b[32m━━━━━━━━━━━━━━━━━━━━\u001b[0m\u001b[37m\u001b[0m \u001b[1m4s\u001b[0m 95ms/step - accuracy: 0.7951 - loss: 0.4838 - val_accuracy: 0.7800 - val_loss: 0.4601\n",
            "Epoch 36/50\n",
            "\u001b[1m25/25\u001b[0m \u001b[32m━━━━━━━━━━━━━━━━━━━━\u001b[0m\u001b[37m\u001b[0m \u001b[1m3s\u001b[0m 96ms/step - accuracy: 0.7697 - loss: 0.4663 - val_accuracy: 0.7800 - val_loss: 0.4375\n",
            "Epoch 37/50\n",
            "\u001b[1m25/25\u001b[0m \u001b[32m━━━━━━━━━━━━━━━━━━━━\u001b[0m\u001b[37m\u001b[0m \u001b[1m2s\u001b[0m 97ms/step - accuracy: 0.7611 - loss: 0.4558 - val_accuracy: 0.7800 - val_loss: 0.3881\n",
            "Epoch 38/50\n",
            "\u001b[1m25/25\u001b[0m \u001b[32m━━━━━━━━━━━━━━━━━━━━\u001b[0m\u001b[37m\u001b[0m \u001b[1m4s\u001b[0m 138ms/step - accuracy: 0.7620 - loss: 0.4447 - val_accuracy: 0.7800 - val_loss: 0.5154\n",
            "Epoch 39/50\n",
            "\u001b[1m25/25\u001b[0m \u001b[32m━━━━━━━━━━━━━━━━━━━━\u001b[0m\u001b[37m\u001b[0m \u001b[1m2s\u001b[0m 97ms/step - accuracy: 0.7542 - loss: 0.5582 - val_accuracy: 0.7800 - val_loss: 0.5189\n",
            "Epoch 40/50\n",
            "\u001b[1m25/25\u001b[0m \u001b[32m━━━━━━━━━━━━━━━━━━━━\u001b[0m\u001b[37m\u001b[0m \u001b[1m2s\u001b[0m 95ms/step - accuracy: 0.7954 - loss: 0.4906 - val_accuracy: 0.7800 - val_loss: 0.5023\n",
            "Epoch 41/50\n",
            "\u001b[1m25/25\u001b[0m \u001b[32m━━━━━━━━━━━━━━━━━━━━\u001b[0m\u001b[37m\u001b[0m \u001b[1m3s\u001b[0m 97ms/step - accuracy: 0.7631 - loss: 0.5240 - val_accuracy: 0.7800 - val_loss: 0.5091\n",
            "Epoch 42/50\n",
            "\u001b[1m25/25\u001b[0m \u001b[32m━━━━━━━━━━━━━━━━━━━━\u001b[0m\u001b[37m\u001b[0m \u001b[1m2s\u001b[0m 99ms/step - accuracy: 0.8155 - loss: 0.4508 - val_accuracy: 0.7800 - val_loss: 0.4482\n",
            "Epoch 43/50\n",
            "\u001b[1m25/25\u001b[0m \u001b[32m━━━━━━━━━━━━━━━━━━━━\u001b[0m\u001b[37m\u001b[0m \u001b[1m3s\u001b[0m 124ms/step - accuracy: 0.7496 - loss: 0.4502 - val_accuracy: 0.8200 - val_loss: 0.3492\n",
            "Epoch 44/50\n",
            "\u001b[1m25/25\u001b[0m \u001b[32m━━━━━━━━━━━━━━━━━━━━\u001b[0m\u001b[37m\u001b[0m \u001b[1m4s\u001b[0m 91ms/step - accuracy: 0.8267 - loss: 0.3527 - val_accuracy: 0.8600 - val_loss: 0.3359\n",
            "Epoch 45/50\n",
            "\u001b[1m25/25\u001b[0m \u001b[32m━━━━━━━━━━━━━━━━━━━━\u001b[0m\u001b[37m\u001b[0m \u001b[1m3s\u001b[0m 96ms/step - accuracy: 0.8685 - loss: 0.3391 - val_accuracy: 0.9100 - val_loss: 0.3420\n",
            "Epoch 46/50\n",
            "\u001b[1m25/25\u001b[0m \u001b[32m━━━━━━━━━━━━━━━━━━━━\u001b[0m\u001b[37m\u001b[0m \u001b[1m3s\u001b[0m 100ms/step - accuracy: 0.9198 - loss: 0.3024 - val_accuracy: 0.9100 - val_loss: 0.2883\n",
            "Epoch 47/50\n",
            "\u001b[1m25/25\u001b[0m \u001b[32m━━━━━━━━━━━━━━━━━━━━\u001b[0m\u001b[37m\u001b[0m \u001b[1m3s\u001b[0m 119ms/step - accuracy: 0.9264 - loss: 0.2494 - val_accuracy: 0.9200 - val_loss: 0.2764\n",
            "Epoch 48/50\n",
            "\u001b[1m25/25\u001b[0m \u001b[32m━━━━━━━━━━━━━━━━━━━━\u001b[0m\u001b[37m\u001b[0m \u001b[1m3s\u001b[0m 101ms/step - accuracy: 0.9342 - loss: 0.2413 - val_accuracy: 0.9400 - val_loss: 0.2337\n",
            "Epoch 49/50\n",
            "\u001b[1m25/25\u001b[0m \u001b[32m━━━━━━━━━━━━━━━━━━━━\u001b[0m\u001b[37m\u001b[0m \u001b[1m2s\u001b[0m 96ms/step - accuracy: 0.9543 - loss: 0.2048 - val_accuracy: 0.9200 - val_loss: 0.2811\n",
            "Epoch 50/50\n",
            "\u001b[1m25/25\u001b[0m \u001b[32m━━━━━━━━━━━━━━━━━━━━\u001b[0m\u001b[37m\u001b[0m \u001b[1m2s\u001b[0m 94ms/step - accuracy: 0.9372 - loss: 0.2327 - val_accuracy: 0.8900 - val_loss: 0.2697\n",
            "\u001b[1m4/4\u001b[0m \u001b[32m━━━━━━━━━━━━━━━━━━━━\u001b[0m\u001b[37m\u001b[0m \u001b[1m1s\u001b[0m 219ms/step\n",
            "📊 Evaluación del modelo LSTM:\n",
            "✔ Precisión: 0.69\n",
            "✔ Recall (Sensibilidad): 0.82\n",
            "✔ F1-score: 0.75\n",
            "✔ ROC-AUC: 0.93\n"
          ]
        },
        {
          "output_type": "display_data",
          "data": {
            "text/plain": [
              "<Figure size 600x400 with 2 Axes>"
            ],
            "image/png": "[encoded data removed]"
          },
          "metadata": {}
        },
        {
          "output_type": "display_data",
          "data": {
            "text/plain": [
              "<Figure size 600x400 with 1 Axes>"
            ],
            "image/png": "[encoded data removed]"
          },
          "metadata": {}
        }
      ]
    }
  ]
}